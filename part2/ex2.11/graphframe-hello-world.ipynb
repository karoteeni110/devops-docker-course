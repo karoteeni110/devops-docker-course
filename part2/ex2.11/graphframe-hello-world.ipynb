{
 "cells": [
  {
   "cell_type": "code",
   "execution_count": 1,
   "id": "edc84530-75a3-41e3-a6d8-62951acff23a",
   "metadata": {
    "tags": []
   },
   "outputs": [
    {
     "name": "stdout",
     "output_type": "stream",
     "text": [
      "+---+--------+\n",
      "| id|inDegree|\n",
      "+---+--------+\n",
      "|  3|       1|\n",
      "|  1|       1|\n",
      "|  2|       1|\n",
      "+---+--------+\n",
      "\n"
     ]
    }
   ],
   "source": [
    "from pyspark.sql import SparkSession\n",
    "from graphframes import GraphFrame\n",
    "\n",
    "session = SparkSession\\\n",
    "    .builder\\\n",
    "    .master('local')\\\n",
    "    .getOrCreate()\n",
    "\n",
    "nodes = session.createDataFrame(\n",
    "  [('1', 'Ada'), ('2', 'Bernd'), ('3', 'Claire')],\n",
    "  ['id', 'name'])\n",
    "\n",
    "edges = session.createDataFrame(\n",
    "  [('1', '2'), ('2', '1'), ('1', '3')],\n",
    "  ['src', 'dst'])\n",
    "\n",
    "graph = GraphFrame(nodes, edges)\n",
    "graph.inDegrees.show()"
   ]
  }
 ],
 "metadata": {
  "kernelspec": {
   "display_name": "Python 3 (ipykernel)",
   "language": "python",
   "name": "python3"
  },
  "language_info": {
   "codemirror_mode": {
    "name": "ipython",
    "version": 3
   },
   "file_extension": ".py",
   "mimetype": "text/x-python",
   "name": "python",
   "nbconvert_exporter": "python",
   "pygments_lexer": "ipython3",
   "version": "3.9.7"
  }
 },
 "nbformat": 4,
 "nbformat_minor": 5
}
